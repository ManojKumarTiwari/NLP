{
  "nbformat": 4,
  "nbformat_minor": 0,
  "metadata": {
    "accelerator": "TPU",
    "colab": {
      "name": "Copy of Course 3 - Week 3 - Lesson 2.ipynb",
      "provenance": [],
      "collapsed_sections": [],
      "toc_visible": true,
      "include_colab_link": true
    },
    "kernelspec": {
      "display_name": "Python 3",
      "language": "python",
      "name": "python3"
    },
    "language_info": {
      "codemirror_mode": {
        "name": "ipython",
        "version": 3
      },
      "file_extension": ".py",
      "mimetype": "text/x-python",
      "name": "python",
      "nbconvert_exporter": "python",
      "pygments_lexer": "ipython3",
      "version": "3.7.6"
    }
  },
  "cells": [
    {
      "cell_type": "markdown",
      "metadata": {
        "id": "view-in-github",
        "colab_type": "text"
      },
      "source": [
        "<a href=\"https://colab.research.google.com/github/ManojKumarTiwari/NLP/blob/master/Copy_of_Course_3_Week_3_Lesson_2.ipynb\" target=\"_parent\"><img src=\"https://colab.research.google.com/assets/colab-badge.svg\" alt=\"Open In Colab\"/></a>"
      ]
    },
    {
      "cell_type": "code",
      "metadata": {
        "colab_type": "code",
        "id": "zX4Kg8DUTKWO",
        "colab": {}
      },
      "source": [
        "#@title Licensed under the Apache License, Version 2.0 (the \"License\");\n",
        "# you may not use this file except in compliance with the License.\n",
        "# You may obtain a copy of the License at\n",
        "#\n",
        "# https://www.apache.org/licenses/LICENSE-2.0\n",
        "#\n",
        "# Unless required by applicable law or agreed to in writing, software\n",
        "# distributed under the License is distributed on an \"AS IS\" BASIS,\n",
        "# WITHOUT WARRANTIES OR CONDITIONS OF ANY KIND, either express or implied.\n",
        "# See the License for the specific language governing permissions and\n",
        "# limitations under the License."
      ],
      "execution_count": null,
      "outputs": []
    },
    {
      "cell_type": "markdown",
      "metadata": {
        "id": "LLJ2xIyvd36P",
        "colab_type": "text"
      },
      "source": [
        "<a href=\"https://colab.research.google.com/github/lmoroney/dlaicourse/blob/master/TensorFlow%20In%20Practice/Course%203%20-%20NLP/Course%203%20-%20Week%203%20-%20Lesson%202.ipynb\" target=\"_parent\"><img src=\"https://colab.research.google.com/assets/colab-badge.svg\" alt=\"Open In Colab\"/></a>"
      ]
    },
    {
      "cell_type": "code",
      "metadata": {
        "colab_type": "code",
        "id": "jGwXGIXvFhXW",
        "colab": {
          "base_uri": "https://localhost:8080/",
          "height": 1000
        },
        "outputId": "55918a73-cb2c-4968-ee46-1a3a49c26312"
      },
      "source": [
        "import numpy as np\n",
        "\n",
        "import json\n",
        "import tensorflow as tf\n",
        "\n",
        "from tensorflow.keras.preprocessing.text import Tokenizer\n",
        "from tensorflow.keras.preprocessing.sequence import pad_sequences\n",
        "\n",
        "!wget --no-check-certificate \\\n",
        "    https://storage.googleapis.com/laurencemoroney-blog.appspot.com/sarcasm.json \\\n",
        "    -O /tmp/sarcasm.json\n",
        "\n",
        "vocab_size = 1000\n",
        "embedding_dim = 16\n",
        "max_length = 120\n",
        "trunc_type='post'\n",
        "padding_type='post'\n",
        "oov_tok = \"<OOV>\"\n",
        "training_size = 20000\n",
        "\n",
        "\n",
        "with open(\"/tmp/sarcasm.json\", 'r') as f:\n",
        "    datastore = json.load(f)\n",
        "\n",
        "\n",
        "sentences = []\n",
        "labels = []\n",
        "urls = []\n",
        "for item in datastore:\n",
        "    sentences.append(item['headline'])\n",
        "    labels.append(item['is_sarcastic'])\n",
        "\n",
        "training_sentences = sentences[0:training_size]\n",
        "testing_sentences = sentences[training_size:]\n",
        "training_labels = labels[0:training_size]\n",
        "testing_labels = labels[training_size:]\n",
        "\n",
        "tokenizer = Tokenizer(num_words=vocab_size, oov_token=oov_tok)\n",
        "tokenizer.fit_on_texts(training_sentences)\n",
        "\n",
        "word_index = tokenizer.word_index\n",
        "\n",
        "training_sequences = tokenizer.texts_to_sequences(training_sentences)\n",
        "training_padded = pad_sequences(training_sequences, maxlen=max_length, padding=padding_type, truncating=trunc_type)\n",
        "\n",
        "testing_sequences = tokenizer.texts_to_sequences(testing_sentences)\n",
        "testing_padded = pad_sequences(testing_sequences, maxlen=max_length, padding=padding_type, truncating=trunc_type)\n",
        "\n",
        "model = tf.keras.Sequential([\n",
        "    tf.keras.layers.Embedding(vocab_size, embedding_dim, input_length=max_length),\n",
        "    tf.keras.layers.Bidirectional(tf.keras.layers.LSTM(32)),\n",
        "    tf.keras.layers.Dense(24, activation='relu'),\n",
        "    tf.keras.layers.Dense(1, activation='sigmoid')\n",
        "])\n",
        "model.compile(loss='binary_crossentropy',optimizer='adam',metrics=['accuracy'])\n",
        "model.summary()\n",
        "\n",
        "num_epochs = 50\n",
        "training_padded = np.array(training_padded)\n",
        "training_labels = np.array(training_labels)\n",
        "testing_padded = np.array(testing_padded)\n",
        "testing_labels = np.array(testing_labels)\n",
        "history = model.fit(training_padded, training_labels, epochs=num_epochs, validation_data=(testing_padded, testing_labels), verbose=1)\n"
      ],
      "execution_count": null,
      "outputs": [
        {
          "output_type": "stream",
          "text": [
            "--2020-08-14 14:58:29--  https://storage.googleapis.com/laurencemoroney-blog.appspot.com/sarcasm.json\n",
            "Resolving storage.googleapis.com (storage.googleapis.com)... 209.85.145.128, 172.217.212.128, 172.217.214.128, ...\n",
            "Connecting to storage.googleapis.com (storage.googleapis.com)|209.85.145.128|:443... connected.\n",
            "HTTP request sent, awaiting response... 200 OK\n",
            "Length: 5643545 (5.4M) [application/json]\n",
            "Saving to: ‘/tmp/sarcasm.json’\n",
            "\n",
            "\r/tmp/sarcasm.json     0%[                    ]       0  --.-KB/s               \r/tmp/sarcasm.json   100%[===================>]   5.38M  --.-KB/s    in 0.08s   \n",
            "\n",
            "2020-08-14 14:58:29 (64.9 MB/s) - ‘/tmp/sarcasm.json’ saved [5643545/5643545]\n",
            "\n",
            "Model: \"sequential\"\n",
            "_________________________________________________________________\n",
            "Layer (type)                 Output Shape              Param #   \n",
            "=================================================================\n",
            "embedding (Embedding)        (None, 120, 16)           16000     \n",
            "_________________________________________________________________\n",
            "bidirectional (Bidirectional (None, 64)                12544     \n",
            "_________________________________________________________________\n",
            "dense (Dense)                (None, 24)                1560      \n",
            "_________________________________________________________________\n",
            "dense_1 (Dense)              (None, 1)                 25        \n",
            "=================================================================\n",
            "Total params: 30,129\n",
            "Trainable params: 30,129\n",
            "Non-trainable params: 0\n",
            "_________________________________________________________________\n",
            "Epoch 1/50\n",
            "625/625 [==============================] - 28s 45ms/step - loss: 0.4541 - accuracy: 0.7696 - val_loss: 0.3886 - val_accuracy: 0.8228\n",
            "Epoch 2/50\n",
            "625/625 [==============================] - 27s 44ms/step - loss: 0.3574 - accuracy: 0.8342 - val_loss: 0.3873 - val_accuracy: 0.8228\n",
            "Epoch 3/50\n",
            "625/625 [==============================] - 27s 44ms/step - loss: 0.3317 - accuracy: 0.8500 - val_loss: 0.3710 - val_accuracy: 0.8319\n",
            "Epoch 4/50\n",
            "625/625 [==============================] - 27s 44ms/step - loss: 0.3102 - accuracy: 0.8620 - val_loss: 0.3856 - val_accuracy: 0.8255\n",
            "Epoch 5/50\n",
            "625/625 [==============================] - 27s 44ms/step - loss: 0.2982 - accuracy: 0.8684 - val_loss: 0.3842 - val_accuracy: 0.8286\n",
            "Epoch 6/50\n",
            "625/625 [==============================] - 27s 44ms/step - loss: 0.2883 - accuracy: 0.8748 - val_loss: 0.3867 - val_accuracy: 0.8295\n",
            "Epoch 7/50\n",
            "625/625 [==============================] - 27s 44ms/step - loss: 0.2799 - accuracy: 0.8774 - val_loss: 0.3738 - val_accuracy: 0.8329\n",
            "Epoch 8/50\n",
            "625/625 [==============================] - 28s 44ms/step - loss: 0.2725 - accuracy: 0.8813 - val_loss: 0.4104 - val_accuracy: 0.8255\n",
            "Epoch 9/50\n",
            "625/625 [==============================] - 27s 44ms/step - loss: 0.2654 - accuracy: 0.8838 - val_loss: 0.3961 - val_accuracy: 0.8298\n",
            "Epoch 10/50\n",
            "625/625 [==============================] - 27s 44ms/step - loss: 0.2592 - accuracy: 0.8893 - val_loss: 0.4050 - val_accuracy: 0.8246\n",
            "Epoch 11/50\n",
            "625/625 [==============================] - 27s 44ms/step - loss: 0.2509 - accuracy: 0.8917 - val_loss: 0.4099 - val_accuracy: 0.8258\n",
            "Epoch 12/50\n",
            "625/625 [==============================] - 28s 44ms/step - loss: 0.2457 - accuracy: 0.8935 - val_loss: 0.4215 - val_accuracy: 0.8234\n",
            "Epoch 13/50\n",
            "625/625 [==============================] - 27s 44ms/step - loss: 0.2378 - accuracy: 0.8990 - val_loss: 0.4193 - val_accuracy: 0.8235\n",
            "Epoch 14/50\n",
            "625/625 [==============================] - 27s 44ms/step - loss: 0.2296 - accuracy: 0.9010 - val_loss: 0.4500 - val_accuracy: 0.8193\n",
            "Epoch 15/50\n",
            "625/625 [==============================] - 27s 44ms/step - loss: 0.2235 - accuracy: 0.9051 - val_loss: 0.5051 - val_accuracy: 0.8141\n",
            "Epoch 16/50\n",
            "625/625 [==============================] - 27s 44ms/step - loss: 0.2150 - accuracy: 0.9081 - val_loss: 0.5048 - val_accuracy: 0.8185\n",
            "Epoch 17/50\n",
            "625/625 [==============================] - 27s 44ms/step - loss: 0.2073 - accuracy: 0.9133 - val_loss: 0.5181 - val_accuracy: 0.8185\n",
            "Epoch 18/50\n",
            "625/625 [==============================] - 27s 44ms/step - loss: 0.2004 - accuracy: 0.9176 - val_loss: 0.5360 - val_accuracy: 0.8140\n",
            "Epoch 19/50\n",
            "625/625 [==============================] - 27s 44ms/step - loss: 0.1938 - accuracy: 0.9184 - val_loss: 0.4958 - val_accuracy: 0.8182\n",
            "Epoch 20/50\n",
            "625/625 [==============================] - 27s 44ms/step - loss: 0.1884 - accuracy: 0.9223 - val_loss: 0.5647 - val_accuracy: 0.8158\n",
            "Epoch 21/50\n",
            "625/625 [==============================] - 28s 44ms/step - loss: 0.1782 - accuracy: 0.9260 - val_loss: 0.6622 - val_accuracy: 0.8110\n",
            "Epoch 22/50\n",
            "625/625 [==============================] - 28s 44ms/step - loss: 0.1711 - accuracy: 0.9281 - val_loss: 0.6194 - val_accuracy: 0.8037\n",
            "Epoch 23/50\n",
            "625/625 [==============================] - 27s 44ms/step - loss: 0.1678 - accuracy: 0.9280 - val_loss: 0.6974 - val_accuracy: 0.8016\n",
            "Epoch 24/50\n",
            "625/625 [==============================] - 27s 44ms/step - loss: 0.1623 - accuracy: 0.9334 - val_loss: 0.6996 - val_accuracy: 0.8098\n",
            "Epoch 25/50\n",
            "625/625 [==============================] - 28s 44ms/step - loss: 0.1563 - accuracy: 0.9346 - val_loss: 0.7920 - val_accuracy: 0.8088\n",
            "Epoch 26/50\n",
            "625/625 [==============================] - 28s 44ms/step - loss: 0.1482 - accuracy: 0.9373 - val_loss: 0.8372 - val_accuracy: 0.8043\n",
            "Epoch 27/50\n",
            "625/625 [==============================] - 27s 44ms/step - loss: 0.1474 - accuracy: 0.9382 - val_loss: 0.8701 - val_accuracy: 0.8022\n",
            "Epoch 28/50\n",
            "625/625 [==============================] - 27s 44ms/step - loss: 0.1371 - accuracy: 0.9426 - val_loss: 0.8123 - val_accuracy: 0.8037\n",
            "Epoch 29/50\n",
            "625/625 [==============================] - 27s 44ms/step - loss: 0.1374 - accuracy: 0.9416 - val_loss: 0.8828 - val_accuracy: 0.8043\n",
            "Epoch 30/50\n",
            "625/625 [==============================] - 27s 44ms/step - loss: 0.1265 - accuracy: 0.9455 - val_loss: 0.9837 - val_accuracy: 0.8040\n",
            "Epoch 31/50\n",
            "625/625 [==============================] - 27s 44ms/step - loss: 0.1234 - accuracy: 0.9459 - val_loss: 1.0089 - val_accuracy: 0.8027\n",
            "Epoch 32/50\n",
            "625/625 [==============================] - 27s 44ms/step - loss: 0.1185 - accuracy: 0.9493 - val_loss: 1.1171 - val_accuracy: 0.8059\n",
            "Epoch 33/50\n",
            "625/625 [==============================] - 27s 44ms/step - loss: 0.1118 - accuracy: 0.9513 - val_loss: 1.1634 - val_accuracy: 0.8010\n",
            "Epoch 34/50\n",
            "625/625 [==============================] - 27s 44ms/step - loss: 0.1138 - accuracy: 0.9508 - val_loss: 1.1620 - val_accuracy: 0.8019\n",
            "Epoch 35/50\n",
            "625/625 [==============================] - 27s 44ms/step - loss: 0.1043 - accuracy: 0.9536 - val_loss: 1.2677 - val_accuracy: 0.8027\n",
            "Epoch 36/50\n",
            "625/625 [==============================] - 27s 44ms/step - loss: 0.1092 - accuracy: 0.9532 - val_loss: 1.2337 - val_accuracy: 0.8022\n",
            "Epoch 37/50\n",
            "625/625 [==============================] - 27s 44ms/step - loss: 0.0937 - accuracy: 0.9574 - val_loss: 1.4040 - val_accuracy: 0.8016\n",
            "Epoch 38/50\n",
            "625/625 [==============================] - 28s 45ms/step - loss: 0.0966 - accuracy: 0.9588 - val_loss: 1.2790 - val_accuracy: 0.8013\n",
            "Epoch 39/50\n",
            "625/625 [==============================] - 28s 45ms/step - loss: 0.0988 - accuracy: 0.9553 - val_loss: 1.3194 - val_accuracy: 0.7968\n",
            "Epoch 40/50\n",
            "625/625 [==============================] - 28s 44ms/step - loss: 0.0836 - accuracy: 0.9619 - val_loss: 1.5877 - val_accuracy: 0.7940\n",
            "Epoch 41/50\n",
            "625/625 [==============================] - 27s 44ms/step - loss: 0.0841 - accuracy: 0.9624 - val_loss: 1.5263 - val_accuracy: 0.7974\n",
            "Epoch 42/50\n",
            "625/625 [==============================] - 27s 44ms/step - loss: 0.0810 - accuracy: 0.9631 - val_loss: 1.5272 - val_accuracy: 0.7928\n",
            "Epoch 43/50\n",
            "625/625 [==============================] - 28s 44ms/step - loss: 0.0851 - accuracy: 0.9625 - val_loss: 1.6342 - val_accuracy: 0.7997\n",
            "Epoch 44/50\n",
            "625/625 [==============================] - 27s 44ms/step - loss: 0.0859 - accuracy: 0.9619 - val_loss: 1.6224 - val_accuracy: 0.7953\n",
            "Epoch 45/50\n",
            "625/625 [==============================] - 27s 44ms/step - loss: 0.0735 - accuracy: 0.9660 - val_loss: 1.6794 - val_accuracy: 0.7934\n",
            "Epoch 46/50\n",
            "625/625 [==============================] - 27s 44ms/step - loss: 0.0731 - accuracy: 0.9668 - val_loss: 1.8237 - val_accuracy: 0.7909\n",
            "Epoch 47/50\n",
            "625/625 [==============================] - 27s 44ms/step - loss: 0.0673 - accuracy: 0.9697 - val_loss: 1.8310 - val_accuracy: 0.7927\n",
            "Epoch 48/50\n",
            "625/625 [==============================] - 27s 44ms/step - loss: 0.0722 - accuracy: 0.9676 - val_loss: 1.7675 - val_accuracy: 0.7965\n",
            "Epoch 49/50\n",
            "625/625 [==============================] - 27s 44ms/step - loss: 0.0721 - accuracy: 0.9688 - val_loss: 1.8432 - val_accuracy: 0.7909\n",
            "Epoch 50/50\n",
            "625/625 [==============================] - 27s 44ms/step - loss: 0.0687 - accuracy: 0.9695 - val_loss: 1.8842 - val_accuracy: 0.7951\n"
          ],
          "name": "stdout"
        }
      ]
    },
    {
      "cell_type": "code",
      "metadata": {
        "colab_type": "code",
        "id": "g9DC6dmLF8DC",
        "colab": {
          "base_uri": "https://localhost:8080/",
          "height": 541
        },
        "outputId": "6baeb879-de72-48bd-dfa2-5d0d73679864"
      },
      "source": [
        "import matplotlib.pyplot as plt\n",
        "\n",
        "\n",
        "def plot_graphs(history, string):\n",
        "  plt.plot(history.history[string])\n",
        "  plt.plot(history.history['val_'+string])\n",
        "  plt.xlabel(\"Epochs\")\n",
        "  plt.ylabel(string)\n",
        "  plt.legend([string, 'val_'+string])\n",
        "  plt.show()\n",
        "\n",
        "plot_graphs(history, 'accuracy')\n",
        "plot_graphs(history, 'loss')"
      ],
      "execution_count": null,
      "outputs": [
        {
          "output_type": "display_data",
          "data": {
            "image/png": "[encoded data removed]",
            "text/plain": [
              "<Figure size 432x288 with 1 Axes>"
            ]
          },
          "metadata": {
            "tags": [],
            "needs_background": "light"
          }
        },
        {
          "output_type": "display_data",
          "data": {
            "image/png": "[encoded data removed]",
            "text/plain": [
              "<Figure size 432x288 with 1 Axes>"
            ]
          },
          "metadata": {
            "tags": [],
            "needs_background": "light"
          }
        }
      ]
    },
    {
      "cell_type": "code",
      "metadata": {
        "colab_type": "code",
        "id": "7ZEZIUppGhdi",
        "colab": {}
      },
      "source": [
        "model.save(\"test.h5\")"
      ],
      "execution_count": null,
      "outputs": []
    },
    {
      "cell_type": "code",
      "metadata": {
        "id": "2VOg-kUZeZVq",
        "colab_type": "code",
        "colab": {}
      },
      "source": [
        ""
      ],
      "execution_count": null,
      "outputs": []
    }
  ]
}